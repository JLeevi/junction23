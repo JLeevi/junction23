{
 "cells": [
  {
   "cell_type": "code",
   "execution_count": 44,
   "metadata": {},
   "outputs": [
    {
     "data": {
      "text/plain": [
       "True"
      ]
     },
     "execution_count": 44,
     "metadata": {},
     "output_type": "execute_result"
    }
   ],
   "source": [
    "import pandas as pd\n",
    "import json\n",
    "import os\n",
    "import requests\n",
    "from dotenv import load_dotenv\n",
    "import openai\n",
    "\n",
    "load_dotenv()"
   ]
  },
  {
   "cell_type": "code",
   "execution_count": 45,
   "metadata": {},
   "outputs": [],
   "source": [
    "BING_KEY = os.environ[\"BING_SEARCH_V7_SUBSCRIPTION_KEY\"]\n",
    "BING_API_ENDPOINT = os.environ[\"BING_SEARCH_V7_ENDPOINT\"]\n",
    "OPENAI_API_KEY = os.environ[\"OPENAI_API_KEY\"]"
   ]
  },
  {
   "cell_type": "code",
   "execution_count": 102,
   "metadata": {},
   "outputs": [],
   "source": [
    "def get_news(query=\"\", count=100):\n",
    "    headers = {\"Ocp-Apim-Subscription-Key\": BING_KEY}\n",
    "    params = {\"mkt\": \"en-US\", \"q\": query, \"count\": count, \"sortBy\": \"Date\"}\n",
    "    response = requests.get(BING_API_ENDPOINT, headers=headers, params=params)\n",
    "    response.raise_for_status()\n",
    "    news_articles = response.json()\n",
    "    return news_articles"
   ]
  },
  {
   "cell_type": "markdown",
   "metadata": {},
   "source": [
    "### Specify queries for each location"
   ]
  },
  {
   "cell_type": "code",
   "execution_count": 103,
   "metadata": {},
   "outputs": [],
   "source": [
    "QUERIES = [\n",
    "    {\n",
    "        \"location\": \"Bogota, Colombia\",\n",
    "        \"events\": [\n",
    "            \"natural disaster\",\n",
    "            \"workers strike\",\n",
    "        ],\n",
    "    },\n",
    "    {\n",
    "        \"location\": \"Solway, Guatemala\",\n",
    "        \"events\": [\n",
    "            \"natural disaster\",\n",
    "            \"workers strike\",\n",
    "        ],\n",
    "    },\n",
    "    {\n",
    "        \"location\": \"Onca Puma, Brazil\",\n",
    "        \"events\": [\n",
    "            \"natural disaster\",\n",
    "            \"workers strike\",\n",
    "        ],\n",
    "    }\n",
    "]"
   ]
  },
  {
   "cell_type": "markdown",
   "metadata": {},
   "source": [
    "## Fetch articles from news api (expensive cell 🥲)"
   ]
  },
  {
   "cell_type": "code",
   "execution_count": 105,
   "metadata": {},
   "outputs": [
    {
     "name": "stdout",
     "output_type": "stream",
     "text": [
      "Found 354 articles\n"
     ]
    }
   ],
   "source": [
    "articles = []\n",
    "\n",
    "for query in QUERIES:\n",
    "    for event in query[\"events\"]:\n",
    "        q = f\"{event} {query['location']}\"\n",
    "        news_articles = get_news(query=q)\n",
    "        for article in news_articles[\"value\"]:\n",
    "           articles.append(\n",
    "               {\n",
    "                    \"location\": query[\"location\"],\n",
    "                    \"event\": event,\n",
    "                    \"name\": article[\"name\"],\n",
    "                    \"url\": article[\"url\"],\n",
    "                    \"description\": article[\"description\"],\n",
    "                    \"timestamp\": article[\"datePublished\"]\n",
    "                }\n",
    "            )\n",
    "\n",
    "print(f\"Found {len(articles)} articles\")"
   ]
  },
  {
   "cell_type": "code",
   "execution_count": 106,
   "metadata": {},
   "outputs": [],
   "source": [
    "json.dump(articles, open(\"data/full-news-data.json\", \"w\"), indent=4)"
   ]
  },
  {
   "cell_type": "markdown",
   "metadata": {},
   "source": [
    "#### Try analysing news with GPT"
   ]
  },
  {
   "cell_type": "code",
   "execution_count": 65,
   "metadata": {},
   "outputs": [],
   "source": [
    "from openai import OpenAI\n",
    "\n",
    "openai_client = OpenAI(api_key=OPENAI_API_KEY)"
   ]
  },
  {
   "cell_type": "code",
   "execution_count": 178,
   "metadata": {},
   "outputs": [],
   "source": [
    "def get_system_prompt(location):\n",
    "    return f\"\"\"\n",
    "You're an analyst for Outokumpu, a stainless steel manufacturer.\n",
    "You're tasked with monitoring news articles for events that could impact the company's operations.\n",
    "You have an important raw material supplier in {location}.\n",
    "You monitor news articles for potentially disruptive events in {location}.\n",
    "If there is a {event} that could impact the company's operations, you need to mention it in your report.\n",
    "If the news don't contain important information, you MUST NOT mention it in your daily report.\n",
    "For important information, the location must match {location} and the event must be important.\n",
    "Your report is of the form:\n",
    "Potential risk in {location}: <boolean>\n",
    "If <boolean> is true, output the following two lines:\n",
    "RELEVANT NEWS ARTICLES: [[$title$, $content$, $url$], ...]\n",
    "SUMMARY OF RISK: ...\n",
    "\"\"\""
   ]
  },
  {
   "cell_type": "code",
   "execution_count": 179,
   "metadata": {},
   "outputs": [],
   "source": [
    "def get_query_prompt(article_list):\n",
    "    prompt = \"\"\n",
    "    for article in article_list:\n",
    "        prompt += f\"\"\"\n",
    "        Title: {article[\"name\"]}\n",
    "        Description: {article[\"description\"]}\n",
    "        URL: {article[\"url\"]}\n",
    "        \"\"\"\n",
    "    return prompt"
   ]
  },
  {
   "cell_type": "code",
   "execution_count": 180,
   "metadata": {},
   "outputs": [],
   "source": [
    "MAX_ARTICLES_PER_EVENT = 5\n",
    "\n",
    "def generate_prompt_for_each_location(queries, articles):\n",
    "    prompts = []\n",
    "    for query in queries:\n",
    "        location = query[\"location\"]\n",
    "        system_prompt = get_system_prompt(location)\n",
    "        query_articles = []\n",
    "        for event in query[\"events\"]:\n",
    "            arts =  [\n",
    "                article for article in articles\n",
    "                if article[\"location\"] == location\n",
    "                and article[\"event\"] == event\n",
    "            ]\n",
    "            arts = arts[:MAX_ARTICLES_PER_EVENT]\n",
    "            query_articles.extend(arts)\n",
    "\n",
    "        query_prompt = get_query_prompt(query_articles)\n",
    "        prompts.append({\n",
    "            \"location\": location,\n",
    "            \"system_prompt\": system_prompt,\n",
    "            \"query_prompt\": query_prompt,\n",
    "            \"articles\": query_articles\n",
    "        })\n",
    "    return prompts"
   ]
  },
  {
   "cell_type": "code",
   "execution_count": 181,
   "metadata": {},
   "outputs": [],
   "source": [
    "def fetch_completions(prompts_list):\n",
    "    completions = []\n",
    "    for prompt in prompts_list:\n",
    "        system_prompt = prompt[\"system_prompt\"]\n",
    "        query_prompt = prompt[\"query_prompt\"]\n",
    "        completion = openai_client.chat.completions.create(\n",
    "            messages=[\n",
    "                {\n",
    "                    \"role\": \"system\",\n",
    "                    \"content\": system_prompt,\n",
    "                },\n",
    "                {\n",
    "                    \"role\": \"user\",\n",
    "                    \"content\": query_prompt,\n",
    "                },\n",
    "            ],\n",
    "            model=\"gpt-3.5-turbo\"\n",
    "        )\n",
    "        completions.append(\n",
    "            {\n",
    "                \"prompt\": prompt,\n",
    "                \"completion\": completion\n",
    "            }\n",
    "        )\n",
    "    return completions"
   ]
  },
  {
   "cell_type": "markdown",
   "metadata": {},
   "source": [
    "## Fetch analysis from GPT for each location (expensive cell 🥲)"
   ]
  },
  {
   "cell_type": "code",
   "execution_count": 182,
   "metadata": {},
   "outputs": [],
   "source": [
    "prompts = generate_prompt_for_each_location(QUERIES, articles)\n",
    "first_completions = fetch_completions(prompts)"
   ]
  },
  {
   "cell_type": "code",
   "execution_count": 183,
   "metadata": {},
   "outputs": [
    {
     "name": "stdout",
     "output_type": "stream",
     "text": [
      "Potential risk in Bogota, Colombia: False\n",
      "\n",
      "Potential risk in Solway, Guatemala: False\n",
      "\n",
      "Potential risk in Onca Puma, Brazil: False\n",
      "\n"
     ]
    }
   ],
   "source": [
    "for c in first_completions:\n",
    "    print(c[\"completion\"].choices[0].message.content)\n",
    "    print(\"\")"
   ]
  },
  {
   "cell_type": "markdown",
   "metadata": {},
   "source": [
    "## Try adding a fake article of an important risk and see if GPT elevates that"
   ]
  },
  {
   "cell_type": "code",
   "execution_count": 184,
   "metadata": {},
   "outputs": [],
   "source": [
    "fake_earthquake_bogota = {\n",
    "    \"location\": \"Bogota, Colombia\",\n",
    "    \"event\": \"natural disaster\",\n",
    "    \"name\": \"Earthquake in Bogota\",\n",
    "    \"url\": \"https://fakeurl.com/earthquake\",\n",
    "    \"description\": \"A 6.1 magnitude earthquake has struck the Colombian capital, Bogotá, causing buildings to shake and people to run into the streets.\",\n",
    "    \"timestamp\": \"2021-07-25T21:35:00.0000000Z\"\n",
    "}\n",
    "\n",
    "fake_strike_onca_puma = {\n",
    "    \"location\": \"Onca Puma, Brazil\",\n",
    "    \"event\": \"workers strike\",\n",
    "    \"name\": \"Factory workers' union calls for strike in Onca Puma\",\n",
    "    \"url\": \"https://fakeurl.com/workers-strike\",\n",
    "    \"description\": \"The union representing mining workers in Onca Puma has called for a strike.\",\n",
    "    \"timestamp\": \"2021-07-25T21:35:00.0000000Z\"\n",
    "}\n",
    "\n",
    "# Put them first because only first 5 articles are considered\n",
    "# per each (event, location) pair\n",
    "extended_articles = [fake_earthquake_bogota, fake_strike_onca_puma] + articles"
   ]
  },
  {
   "cell_type": "markdown",
   "metadata": {},
   "source": [
    "## Fetch analysis from GPT for the extended queries (expensive cell 🥲)"
   ]
  },
  {
   "cell_type": "code",
   "execution_count": 185,
   "metadata": {},
   "outputs": [],
   "source": [
    "second_prompts = generate_prompt_for_each_location(QUERIES, extended_articles)\n",
    "second_completions = fetch_completions(second_prompts)"
   ]
  },
  {
   "cell_type": "code",
   "execution_count": 186,
   "metadata": {},
   "outputs": [
    {
     "name": "stdout",
     "output_type": "stream",
     "text": [
      "Potential risk in Bogota, Colombia: True\n",
      "\n",
      "RELEVANT NEWS ARTICLES: \n",
      "[[\"Earthquake in Bogota\", \"A 6.1 magnitude earthquake has struck the Colombian capital, Bogotá, causing buildings to shake and people to run into the streets.\", \"https://fakeurl.com/earthquake\"]]\n",
      "\n",
      "SUMMARY OF RISK: \n",
      "There has been a 6.1 magnitude earthquake in Bogotá, Colombia. This could potentially impact the company's operations in the region.\n",
      "\n",
      "Potential risk in Solway, Guatemala: False\n",
      "\n",
      "Potential risk in Onca Puma, Brazil: True\n",
      "\n",
      "RELEVANT NEWS ARTICLES: [['Factory workers' union calls for strike in Onca Puma', 'The union representing mining workers in Onca Puma has called for a strike.', 'https://fakeurl.com/workers-strike']]\n",
      "\n",
      "SUMMARY OF RISK: There is a risk of a workers' strike in Onca Puma, Brazil. This strike could potentially disrupt the company's operations.\n",
      "\n"
     ]
    }
   ],
   "source": [
    "for c in second_completions:\n",
    "    print(c[\"completion\"].choices[0].message.content)\n",
    "    print(\"\")"
   ]
  }
 ],
 "metadata": {
  "kernelspec": {
   "display_name": "base",
   "language": "python",
   "name": "python3"
  },
  "language_info": {
   "codemirror_mode": {
    "name": "ipython",
    "version": 3
   },
   "file_extension": ".py",
   "mimetype": "text/x-python",
   "name": "python",
   "nbconvert_exporter": "python",
   "pygments_lexer": "ipython3",
   "version": "3.9.7"
  }
 },
 "nbformat": 4,
 "nbformat_minor": 2
}
