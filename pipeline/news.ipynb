{
 "cells": [
  {
   "cell_type": "code",
   "execution_count": 44,
   "metadata": {},
   "outputs": [
    {
     "data": {
      "text/plain": [
       "True"
      ]
     },
     "execution_count": 44,
     "metadata": {},
     "output_type": "execute_result"
    }
   ],
   "source": [
    "import pandas as pd\n",
    "import json\n",
    "import os\n",
    "import requests\n",
    "from dotenv import load_dotenv\n",
    "import openai\n",
    "\n",
    "load_dotenv()"
   ]
  },
  {
   "cell_type": "code",
   "execution_count": 235,
   "metadata": {},
   "outputs": [],
   "source": [
    "BING_KEY = os.environ[\"BING_SEARCH_V7_SUBSCRIPTION_KEY\"]\n",
    "BING_API_ENDPOINT = os.environ[\"BING_SEARCH_V7_ENDPOINT\"]\n",
    "OPENAI_API_KEY = os.environ[\"OPENAI_API_KEY\"]\n",
    "MODEL_ID = \"gpt-3.5-turbo-1106\""
   ]
  },
  {
   "cell_type": "code",
   "execution_count": 102,
   "metadata": {},
   "outputs": [],
   "source": [
    "def get_news(query=\"\", count=100):\n",
    "    headers = {\"Ocp-Apim-Subscription-Key\": BING_KEY}\n",
    "    params = {\"mkt\": \"en-US\", \"q\": query, \"count\": count, \"sortBy\": \"Date\"}\n",
    "    response = requests.get(BING_API_ENDPOINT, headers=headers, params=params)\n",
    "    response.raise_for_status()\n",
    "    news_articles = response.json()\n",
    "    return news_articles"
   ]
  },
  {
   "cell_type": "markdown",
   "metadata": {},
   "source": [
    "### Specify queries for each location"
   ]
  },
  {
   "cell_type": "code",
   "execution_count": 293,
   "metadata": {},
   "outputs": [],
   "source": [
    "QUERIES = [\n",
    "    {\n",
    "        \"location\": {\n",
    "            \"country\": \"Colombia\",\n",
    "            \"city\": \"Bogota\",\n",
    "            \"coordinates\": [4.678390790414742, -74.08310452775451],\n",
    "        },\n",
    "        \"events\": [\n",
    "            \"natural disaster\",\n",
    "            \"workers strike\",\n",
    "        ],\n",
    "    },\n",
    "    {\n",
    "        \"location\": {\n",
    "            \"country\": \"Guatemala\",\n",
    "            \"city\": \"El Estor\",\n",
    "            \"coordinates\": [15.5322197047923, -89.33265507494376],\n",
    "        },\n",
    "        \"events\": [\n",
    "            \"natural disaster\",\n",
    "            \"workers strike\",\n",
    "        ],\n",
    "    },\n",
    "    {\n",
    "        \"location\": {\n",
    "            \"country\": \"Brazil\",\n",
    "            \"city\": \"Onca Puma\",\n",
    "            \"coordinates\": [-6.605335306591729, -51.100066887737015],\n",
    "        },\n",
    "        \"events\": [\n",
    "            \"natural disaster\",\n",
    "            \"workers strike\",\n",
    "        ],\n",
    "    },\n",
    "    {\n",
    "        \"location\": {\n",
    "            \"country\": \"Holland\",\n",
    "            \"city\": \"Terneuzen\",\n",
    "            \"coordinates\": [51.33013942257549, 3.83565678442852],\n",
    "        },\n",
    "        \"events\": [\n",
    "            \"natural disaster\",\n",
    "            \"workers strike\",\n",
    "        ],\n",
    "    }\n",
    "]"
   ]
  },
  {
   "cell_type": "markdown",
   "metadata": {},
   "source": [
    "## Fetch articles from news api (expensive cell 🥲)"
   ]
  },
  {
   "cell_type": "code",
   "execution_count": 294,
   "metadata": {},
   "outputs": [
    {
     "name": "stdout",
     "output_type": "stream",
     "text": [
      "Found 414 articles\n"
     ]
    }
   ],
   "source": [
    "ALL_ARTICLES = []\n",
    "\n",
    "for query in QUERIES:\n",
    "    for event in query[\"events\"]:\n",
    "        country = query[\"location\"][\"country\"]\n",
    "        city = query[\"location\"][\"city\"]\n",
    "        q = f\"{event} {city} {country}\"\n",
    "        news_articles = get_news(query=q)\n",
    "        for article in news_articles[\"value\"]:\n",
    "           ALL_ARTICLES.append(\n",
    "               {\n",
    "                    \"location\": query[\"location\"],\n",
    "                    \"event\": event,\n",
    "                    \"name\": article[\"name\"],\n",
    "                    \"url\": article[\"url\"],\n",
    "                    \"description\": article[\"description\"],\n",
    "                    \"timestamp\": article[\"datePublished\"]\n",
    "                }\n",
    "            )\n",
    "\n",
    "print(f\"Found {len(ALL_ARTICLES)} articles\")"
   ]
  },
  {
   "cell_type": "code",
   "execution_count": 295,
   "metadata": {},
   "outputs": [],
   "source": [
    "json.dump(ALL_ARTICLES, open(\"data/full-news-data.json\", \"w\"), indent=4)"
   ]
  },
  {
   "cell_type": "markdown",
   "metadata": {},
   "source": [
    "#### Try analysing news with GPT"
   ]
  },
  {
   "cell_type": "code",
   "execution_count": 296,
   "metadata": {},
   "outputs": [],
   "source": [
    "from openai import OpenAI\n",
    "\n",
    "openai_client = OpenAI(api_key=OPENAI_API_KEY)"
   ]
  },
  {
   "cell_type": "code",
   "execution_count": 310,
   "metadata": {},
   "outputs": [],
   "source": [
    "def parse_location_name(location):\n",
    "    return f\"{location['city']}, {location['country']}\""
   ]
  },
  {
   "cell_type": "code",
   "execution_count": 311,
   "metadata": {},
   "outputs": [],
   "source": [
    "def get_system_prompt(location):\n",
    "    location_name = parse_location_name(location)\n",
    "    return f\"\"\"\n",
    "You're an analyst for Outokumpu, a stainless steel manufacturer.\n",
    "You're tasked with monitoring news articles for events that could impact the company's operations.\n",
    "You have an important raw material supplier in {location_name}.\n",
    "You monitor news articles for potentially disruptive events in {location_name}.\n",
    "If there is an event that could impact the company's operations, you need to mention it in your report.\n",
    "If the news don't contain important information, you MUST NOT mention it in your daily report.\n",
    "For important information, the location must match {location_name} and the event must be important.\n",
    "\"\"\""
   ]
  },
  {
   "cell_type": "code",
   "execution_count": 312,
   "metadata": {},
   "outputs": [],
   "source": [
    "def get_articles_for_location(location, articles, max_per_event=5):\n",
    "    location_name = parse_location_name(location)\n",
    "    return [a for a in articles if parse_location_name(a[\"location\"]) == location_name][:max_per_event]"
   ]
  },
  {
   "cell_type": "code",
   "execution_count": 313,
   "metadata": {},
   "outputs": [],
   "source": [
    "def get_query_prompt(articles):\n",
    "    prompt = \"\"\n",
    "    for article in articles:\n",
    "        prompt += f\"\"\"\n",
    "        Title: {article[\"name\"]}\n",
    "        Description: {article[\"description\"]}\n",
    "        URL: {article[\"url\"]}\n",
    "        \"\"\"\n",
    "    return prompt"
   ]
  },
  {
   "cell_type": "code",
   "execution_count": 314,
   "metadata": {},
   "outputs": [],
   "source": [
    "def get_tool_for_location(location):\n",
    "    location_name = parse_location_name(location)\n",
    "    return [\n",
    "        {\n",
    "            \"type\": \"function\",\n",
    "            \"function\": {\n",
    "                \"name\": \"report_risk_status\",\n",
    "                \"description\": f\"Report the risk status for {location_name} based on the news articles\",\n",
    "                \"parameters\": {\n",
    "                    \"type\": \"object\",\n",
    "                    \"properties\": {\n",
    "                        \"has_risk\": {\n",
    "                            \"type\": \"boolean\",\n",
    "                            \"description\": \"Whether there is a potential risk for operations or not\",\n",
    "                        },\n",
    "                        \"risk_title\": {\n",
    "                            \"type\": \"string\",\n",
    "                            \"description\": \"Given if there is a risk. One sentence title for the risk for operations intended for analysts. For example: Potential disruption due to a labor strike in the region.\",\n",
    "                        },\n",
    "                        \"risk_summary\": {\n",
    "                            \"type\": \"string\",\n",
    "                            \"description\": \"Given if there is a risk. A few sentences summary for the risk for operations intended for analysts.\",\n",
    "                        },\n",
    "                        \"articles\": {\n",
    "                            \"type\": \"array\",\n",
    "                            \"description\": \"Given if there is a risk. The articles that support the risk.\",\n",
    "                            \"items\": {\n",
    "                                \"type\": \"object\",\n",
    "                                \"properties\": {\n",
    "                                    \"title\": {\n",
    "                                        \"type\": \"string\",\n",
    "                                        \"description\": \"The title of the article\",\n",
    "                                    },\n",
    "                                    \"content\": {\n",
    "                                        \"type\": \"string\",\n",
    "                                        \"description\": \"The content of the article\",\n",
    "                                    },\n",
    "                                    \"url\": {\n",
    "                                        \"type\": \"string\",\n",
    "                                        \"description\": \"The URL of the article\",\n",
    "                                    },\n",
    "                                },\n",
    "                            },\n",
    "                        },\n",
    "                    },\n",
    "                    \"required\": [\"has_risk\"],\n",
    "                },\n",
    "            },\n",
    "        },\n",
    "    ]"
   ]
  },
  {
   "cell_type": "code",
   "execution_count": 315,
   "metadata": {},
   "outputs": [],
   "source": [
    "def get_prompts_for_location(location, articles):\n",
    "    query_prompt = get_query_prompt(articles)\n",
    "    system_prompt = get_system_prompt(location)\n",
    "    tools = get_tool_for_location(location)\n",
    "    return {\n",
    "        \"messages\": [\n",
    "            {\n",
    "                \"role\": \"system\",\n",
    "                \"content\": system_prompt,\n",
    "            },\n",
    "            {\n",
    "                \"role\": \"user\",\n",
    "                \"content\": query_prompt,\n",
    "            },\n",
    "        ],\n",
    "        \"tools\": tools,\n",
    "        \"tool_choice\": {\"type\": \"function\", \"function\": {\"name\": \"report_risk_status\"}},\n",
    "    }"
   ]
  },
  {
   "cell_type": "code",
   "execution_count": 325,
   "metadata": {},
   "outputs": [],
   "source": [
    "def get_completion_for_location(location, articles):\n",
    "    articles = get_articles_for_location(location, articles)\n",
    "    prompts = get_prompts_for_location(location, articles)\n",
    "    completion = openai.chat.completions.create(\n",
    "        messages=prompts[\"messages\"],\n",
    "        tools=prompts[\"tools\"],\n",
    "        tool_choice=prompts[\"tool_choice\"],\n",
    "        model=MODEL_ID,\n",
    "        temperature=0.3\n",
    "    )\n",
    "    return completion"
   ]
  },
  {
   "cell_type": "code",
   "execution_count": 326,
   "metadata": {},
   "outputs": [],
   "source": [
    "def parse_risk_status_from_completion(completion):\n",
    "    try:\n",
    "        return json.loads(completion.choices[0].message.tool_calls[0].function.arguments)\n",
    "    except Exception as e:\n",
    "        print(f\"------\\nError parsing risk status: {e}\")\n",
    "        print(f\"Related completion: {completion}------\\n\")\n",
    "        return { \"has_risk\": False }"
   ]
  },
  {
   "cell_type": "code",
   "execution_count": 327,
   "metadata": {},
   "outputs": [
    {
     "name": "stdout",
     "output_type": "stream",
     "text": [
      "[\n",
      "    {\n",
      "        \"location\": {\n",
      "            \"country\": \"Colombia\",\n",
      "            \"city\": \"Bogota\",\n",
      "            \"coordinates\": [\n",
      "                4.678390790414742,\n",
      "                -74.08310452775451\n",
      "            ]\n",
      "        },\n",
      "        \"risk_status\": {\n",
      "            \"has_risk\": false\n",
      "        }\n",
      "    },\n",
      "    {\n",
      "        \"location\": {\n",
      "            \"country\": \"Guatemala\",\n",
      "            \"city\": \"El Estor\",\n",
      "            \"coordinates\": [\n",
      "                15.5322197047923,\n",
      "                -89.33265507494376\n",
      "            ]\n",
      "        },\n",
      "        \"risk_status\": {\n",
      "            \"has_risk\": true,\n",
      "            \"risk_title\": \"Protest and Road Blockades in Guatemala\",\n",
      "            \"risk_summary\": \"Guatemala has experienced 11 days of protests and road blockades, with over 120 closed roads. This is part of a general protest demanding the resignation of the attorney general and chief of staff. The situation may impact operations in El Estor, Guatemala.\",\n",
      "            \"articles\": [\n",
      "                {\n",
      "                    \"title\": \"El Salvador preocupado por crisis en Guatemala\",\n",
      "                    \"content\": \"Guatemala sum\\u00f3 el mi\\u00e9rcoles 11 d\\u00edas de manifestaciones y bloqueos con m\\u00e1s de 120 carreteras cerradas, como parte de una protesta general para exigir la renuncia de la fiscal general y jefa del ...\",\n",
      "                    \"url\": \"https://www.prensa-latina.cu/2023/10/12/el-salvador-preocupado-por-crisis-en-guatemala\"\n",
      "                }\n",
      "            ]\n",
      "        }\n",
      "    },\n",
      "    {\n",
      "        \"location\": {\n",
      "            \"country\": \"Brazil\",\n",
      "            \"city\": \"Onca Puma\",\n",
      "            \"coordinates\": [\n",
      "                -6.605335306591729,\n",
      "                -51.100066887737015\n",
      "            ]\n",
      "        },\n",
      "        \"risk_status\": {\n",
      "            \"has_risk\": false\n",
      "        }\n",
      "    },\n",
      "    {\n",
      "        \"location\": {\n",
      "            \"country\": \"Holland\",\n",
      "            \"city\": \"Terneuzen\",\n",
      "            \"coordinates\": [\n",
      "                51.33013942257549,\n",
      "                3.83565678442852\n",
      "            ]\n",
      "        },\n",
      "        \"risk_status\": {\n",
      "            \"has_risk\": false\n",
      "        }\n",
      "    }\n",
      "]\n"
     ]
    }
   ],
   "source": [
    "risk_statuses = []\n",
    "for query in QUERIES:\n",
    "    completion = get_completion_for_location(query[\"location\"], ALL_ARTICLES)\n",
    "    risk_status = parse_risk_status_from_completion(completion)\n",
    "    risk_statuses.append({\n",
    "        \"location\": query[\"location\"],\n",
    "        \"risk_status\": risk_status\n",
    "    })\n",
    "\n",
    "# pretty print the results json\n",
    "print(json.dumps(risk_statuses, indent=4))"
   ]
  },
  {
   "cell_type": "markdown",
   "metadata": {},
   "source": [
    "## Try adding a fake article of an important risk and see if GPT elevates that"
   ]
  },
  {
   "cell_type": "code",
   "execution_count": 328,
   "metadata": {},
   "outputs": [],
   "source": [
    "fake_strike_onca_puma = {\n",
    "    \"location\": {\n",
    "        \"country\": \"Brazil\",\n",
    "        \"city\": \"Onca Puma\",\n",
    "        \"coordinates\": [-6.605335306591729, -51.100066887737015],\n",
    "    },\n",
    "    \"event\": \"workers strike\",\n",
    "    \"name\": \"Factory workers' union calls for strike in Onca Puma\",\n",
    "    \"url\": \"https://fakeurl.com/workers-strike\",\n",
    "    \"description\": \"The union representing mining workers in Onca Puma has called for a strike.\",\n",
    "    \"timestamp\": \"2021-07-25T21:35:00.0000000Z\"\n",
    "}"
   ]
  },
  {
   "cell_type": "markdown",
   "metadata": {},
   "source": [
    "## Fetch analysis from GPT for the extended queries (expensive cell 🥲)"
   ]
  },
  {
   "cell_type": "code",
   "execution_count": 329,
   "metadata": {},
   "outputs": [
    {
     "name": "stdout",
     "output_type": "stream",
     "text": [
      "[\n",
      "    {\n",
      "        \"location\": {\n",
      "            \"country\": \"Colombia\",\n",
      "            \"city\": \"Bogota\",\n",
      "            \"coordinates\": [\n",
      "                4.678390790414742,\n",
      "                -74.08310452775451\n",
      "            ]\n",
      "        },\n",
      "        \"risk_status\": {\n",
      "            \"has_risk\": false\n",
      "        }\n",
      "    },\n",
      "    {\n",
      "        \"location\": {\n",
      "            \"country\": \"Guatemala\",\n",
      "            \"city\": \"El Estor\",\n",
      "            \"coordinates\": [\n",
      "                15.5322197047923,\n",
      "                -89.33265507494376\n",
      "            ]\n",
      "        },\n",
      "        \"risk_status\": {\n",
      "            \"has_risk\": false\n",
      "        }\n",
      "    },\n",
      "    {\n",
      "        \"location\": {\n",
      "            \"country\": \"Brazil\",\n",
      "            \"city\": \"Onca Puma\",\n",
      "            \"coordinates\": [\n",
      "                -6.605335306591729,\n",
      "                -51.100066887737015\n",
      "            ]\n",
      "        },\n",
      "        \"risk_status\": {\n",
      "            \"has_risk\": true,\n",
      "            \"risk_title\": \"Potential disruption due to a labor strike in the region.\",\n",
      "            \"risk_summary\": \"The union representing mining workers in Onca Puma has called for a strike. This could lead to disruptions in the supply of raw materials for the company's operations.\",\n",
      "            \"articles\": [\n",
      "                {\n",
      "                    \"title\": \"Factory workers' union calls for strike in Onca Puma\",\n",
      "                    \"content\": \"The union representing mining workers in Onca Puma has called for a strike.\",\n",
      "                    \"url\": \"https://fakeurl.com/workers-strike\"\n",
      "                }\n",
      "            ]\n",
      "        }\n",
      "    },\n",
      "    {\n",
      "        \"location\": {\n",
      "            \"country\": \"Holland\",\n",
      "            \"city\": \"Terneuzen\",\n",
      "            \"coordinates\": [\n",
      "                51.33013942257549,\n",
      "                3.83565678442852\n",
      "            ]\n",
      "        },\n",
      "        \"risk_status\": {\n",
      "            \"has_risk\": false\n",
      "        }\n",
      "    }\n",
      "]\n"
     ]
    }
   ],
   "source": [
    "# Put the fake article first because only first 5 articles are considered\n",
    "# per each (event, location) pair\n",
    "extended_articles = [fake_strike_onca_puma] + ALL_ARTICLES\n",
    "\n",
    "risk_statuses_extended = []\n",
    "for query in QUERIES:\n",
    "    completion = get_completion_for_location(query[\"location\"], extended_articles)\n",
    "    risk_status = parse_risk_status_from_completion(completion)\n",
    "    risk_statuses_extended.append({\n",
    "        \"location\": query[\"location\"],\n",
    "        \"risk_status\": risk_status\n",
    "    })\n",
    "\n",
    "# pretty print the results json\n",
    "print(json.dumps(risk_statuses_extended, indent=4))"
   ]
  },
  {
   "cell_type": "code",
   "execution_count": null,
   "metadata": {},
   "outputs": [],
   "source": []
  }
 ],
 "metadata": {
  "kernelspec": {
   "display_name": "base",
   "language": "python",
   "name": "python3"
  },
  "language_info": {
   "codemirror_mode": {
    "name": "ipython",
    "version": 3
   },
   "file_extension": ".py",
   "mimetype": "text/x-python",
   "name": "python",
   "nbconvert_exporter": "python",
   "pygments_lexer": "ipython3",
   "version": "3.9.7"
  }
 },
 "nbformat": 4,
 "nbformat_minor": 2
}
