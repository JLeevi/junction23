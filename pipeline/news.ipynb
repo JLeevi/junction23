{
 "cells": [
  {
   "cell_type": "code",
   "execution_count": 44,
   "metadata": {},
   "outputs": [
    {
     "data": {
      "text/plain": [
       "True"
      ]
     },
     "execution_count": 44,
     "metadata": {},
     "output_type": "execute_result"
    }
   ],
   "source": [
    "import pandas as pd\n",
    "import json\n",
    "import os\n",
    "import requests\n",
    "from dotenv import load_dotenv\n",
    "import openai\n",
    "\n",
    "load_dotenv()"
   ]
  },
  {
   "cell_type": "code",
   "execution_count": 45,
   "metadata": {},
   "outputs": [],
   "source": [
    "BING_KEY = os.environ[\"BING_SEARCH_V7_SUBSCRIPTION_KEY\"]\n",
    "BING_API_ENDPOINT = os.environ[\"BING_SEARCH_V7_ENDPOINT\"]\n",
    "OPENAI_API_KEY = os.environ[\"OPENAI_API_KEY\"]"
   ]
  },
  {
   "cell_type": "code",
   "execution_count": 19,
   "metadata": {},
   "outputs": [],
   "source": [
    "def get_news(query=\"\", count=100):\n",
    "    headers = {\"Ocp-Apim-Subscription-Key\": BING_KEY}\n",
    "    params = {\"mkt\": \"en-US\", \"q\": query, \"count\": count, \"sortBy\": \"Date\"}\n",
    "    response = requests.get(BING_API_ENDPOINT, headers=headers, params=params)\n",
    "    response.raise_for_status()\n",
    "    news_articles = response.json()\n",
    "    return news_articles"
   ]
  },
  {
   "cell_type": "code",
   "execution_count": 26,
   "metadata": {},
   "outputs": [
    {
     "name": "stdout",
     "output_type": "stream",
     "text": [
      "fetched 27 news articles for Bogota, Colombia natural disaster\n"
     ]
    }
   ],
   "source": [
    "location = \"Bogota, Colombia\"\n",
    "event = \"natural disaster\"\n",
    "\n",
    "query = f\"{location} {event}\"\n",
    "news_articles = get_news(query=query)\n",
    "print(f\"fetched {len(news_articles['value'])} news articles for {query}\")"
   ]
  },
  {
   "cell_type": "code",
   "execution_count": 40,
   "metadata": {},
   "outputs": [],
   "source": [
    "json.dump(news_articles, open(\"data/bogota-natural-disaster-news.json\", \"w\"), indent=4)"
   ]
  },
  {
   "cell_type": "code",
   "execution_count": 64,
   "metadata": {},
   "outputs": [],
   "source": [
    "parsed_articles = [{\n",
    "    \"title\": a[\"name\"],\n",
    "    \"content\": a[\"description\"],\n",
    "    \"timestamp\": a[\"datePublished\"]}\n",
    "    for a in news_articles['value']\n",
    "]"
   ]
  },
  {
   "cell_type": "markdown",
   "metadata": {},
   "source": [
    "#### Try analysing news with GPT"
   ]
  },
  {
   "cell_type": "code",
   "execution_count": 65,
   "metadata": {},
   "outputs": [],
   "source": [
    "from openai import OpenAI\n",
    "\n",
    "openai_client = OpenAI(api_key=OPENAI_API_KEY)"
   ]
  },
  {
   "cell_type": "code",
   "execution_count": 67,
   "metadata": {},
   "outputs": [
    {
     "data": {
      "text/plain": [
       "\"\\nYou're an analyst for Outokumpu, a stainless steel manufacturer. You're tasked with monitoring news articles for mentions of natural disasters that could impact the company's operations.You have an important raw material supplier in Bogota, Colombia. You monitor news articles for mentions of natural disasters in Bogota, Colombia.If there is a natural disaster that could impact the company's operations, you need to mention it in your daily report.If the news don't contain important information, you MUST NOT mention it in your daily report.Your report is of the form:\\nPotential natural disasters in Bogota, Colombia: <boolean>\\nIf <boolean> is true, output the following:\\nRELEVANT NEWS ARTICLES: [[{title}, {content}], ...]\\n\""
      ]
     },
     "execution_count": 67,
     "metadata": {},
     "output_type": "execute_result"
    }
   ],
   "source": [
    "SYSTEM_PROMPT = \"\"\"\n",
    "You're an analyst for Outokumpu, a stainless steel manufacturer. You're tasked with monitoring news articles for mentions of natural disasters that could impact the company's operations.\\\n",
    "You have an important raw material supplier in Bogota, Colombia. You monitor news articles for mentions of natural disasters in Bogota, Colombia.\\\n",
    "If there is a natural disaster that could impact the company's operations, you need to mention it in your daily report.\\\n",
    "If the news don't contain important information, you MUST NOT mention it in your daily report.\\\n",
    "Your report is of the form:\n",
    "Potential natural disasters in Bogota, Colombia: <boolean>\n",
    "If <boolean> is true, output the following:\n",
    "RELEVANT NEWS ARTICLES: [[{title}, {content}], ...]\n",
    "\"\"\"\n",
    "SYSTEM_PROMPT"
   ]
  },
  {
   "cell_type": "code",
   "execution_count": 89,
   "metadata": {},
   "outputs": [
    {
     "data": {
      "text/plain": [
       "865"
      ]
     },
     "execution_count": 89,
     "metadata": {},
     "output_type": "execute_result"
    }
   ],
   "source": [
    "QUERY_PROMPT = \"\"\n",
    "for article in parsed_articles[:3]:\n",
    "    QUERY_PROMPT += f\"Title: {article['title']}\\nContent: {article['content']}\\n\\n\"\n",
    "\n",
    "len(QUERY_PROMPT)"
   ]
  },
  {
   "cell_type": "code",
   "execution_count": 75,
   "metadata": {},
   "outputs": [],
   "source": [
    "chat_completion = openai_client.chat.completions.create(\n",
    "    messages=[\n",
    "        {\n",
    "            \"role\": \"system\",\n",
    "            \"content\": SYSTEM_PROMPT,\n",
    "        },\n",
    "        {\n",
    "            \"role\": \"user\",\n",
    "            \"content\": QUERY_PROMPT,\n",
    "        }\n",
    "    ],\n",
    "    model=\"gpt-3.5-turbo\",\n",
    ")"
   ]
  },
  {
   "cell_type": "code",
   "execution_count": 86,
   "metadata": {},
   "outputs": [
    {
     "data": {
      "text/plain": [
       "'Potential natural disasters in Bogota, Colombia: False'"
      ]
     },
     "execution_count": 86,
     "metadata": {},
     "output_type": "execute_result"
    }
   ],
   "source": [
    "chat_completion.choices[0].message.content"
   ]
  },
  {
   "cell_type": "code",
   "execution_count": 90,
   "metadata": {},
   "outputs": [
    {
     "data": {
      "text/plain": [
       "\"Title: 6 questions about travel to Colombia with Bay Village writer and Lonely Planet contributor Laura Watilo Blake\\nContent: Laura Watilo Blake took her first trip to Colombia in 2010. She returned six years later to adopt her daughter. She’s has been back a dozen times since, most recently to research for Lonely Planet Colombia,\\n\\nTitle: Deforestation in Colombia Down 70 Percent So Far This Year\\nContent: Deforestation in the Colombian Amazon is down 70 percent, year on year, through the first nine months of 2023, the government estimates.\\n\\nTitle: Colombia Amazon deforestation seen down 70% through September -minister\\nContent: Deforestation in Colombia's Amazon is forecast to have fallen 70% in the first nine months of 2023 from the year-ago period, Environment Minister Susana Muhamad said on Tuesday, though she warned drought could reverse the trend.\\n\\nTitle: Huge earthquake in Bogota, Colombia\\nContent: A huge earthquake hit Bogota, Colombia, causing a lot of damage. The earthquake was 8.0 on the Richter scale.\\n\\n\""
      ]
     },
     "execution_count": 90,
     "metadata": {},
     "output_type": "execute_result"
    }
   ],
   "source": [
    "fake_disaster_article = {\n",
    "    \"title\": \"Huge earthquake in Bogota, Colombia\",\n",
    "    \"content\": \"A huge earthquake hit Bogota, Colombia, causing a lot of damage. The earthquake was 8.0 on the Richter scale.\"\n",
    "}\n",
    "\n",
    "QUERY_PROMPT_WITH_BAD_EVENT = QUERY_PROMPT + f\"Title: {fake_disaster_article['title']}\\nContent: {fake_disaster_article['content']}\\n\\n\"\n",
    "QUERY_PROMPT_WITH_BAD_EVENT"
   ]
  },
  {
   "cell_type": "code",
   "execution_count": 87,
   "metadata": {},
   "outputs": [],
   "source": [
    "chat_completion_2 = openai_client.chat.completions.create(\n",
    "    messages=[\n",
    "        {\n",
    "            \"role\": \"system\",\n",
    "            \"content\": SYSTEM_PROMPT,\n",
    "        },\n",
    "        {\n",
    "            \"role\": \"user\",\n",
    "            \"content\": QUERY_PROMPT,\n",
    "        }\n",
    "    ],\n",
    "    model=\"gpt-3.5-turbo\",\n",
    ")"
   ]
  },
  {
   "cell_type": "code",
   "execution_count": 91,
   "metadata": {},
   "outputs": [
    {
     "data": {
      "text/plain": [
       "'Potential natural disasters in Bogota, Colombia: True\\n\\nRELEVANT NEWS ARTICLES: [[\"Huge earthquake in Bogota, Colombia\", \"A huge earthquake hit Bogota, Colombia, causing a lot of damage. The earthquake was 8.0 on the Richter scale.\"]]'"
      ]
     },
     "execution_count": 91,
     "metadata": {},
     "output_type": "execute_result"
    }
   ],
   "source": [
    "chat_completion_2.choices[0].message.content"
   ]
  }
 ],
 "metadata": {
  "kernelspec": {
   "display_name": "base",
   "language": "python",
   "name": "python3"
  },
  "language_info": {
   "codemirror_mode": {
    "name": "ipython",
    "version": 3
   },
   "file_extension": ".py",
   "mimetype": "text/x-python",
   "name": "python",
   "nbconvert_exporter": "python",
   "pygments_lexer": "ipython3",
   "version": "3.9.7"
  }
 },
 "nbformat": 4,
 "nbformat_minor": 2
}
