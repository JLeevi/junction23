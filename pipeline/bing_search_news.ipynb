{
 "cells": [
  {
   "cell_type": "code",
   "execution_count": 42,
   "id": "9e856342-e227-4106-bd5b-4e2640dbf10b",
   "metadata": {},
   "outputs": [],
   "source": [
    "import json\n",
    "import os\n",
    "import requests\n",
    "\n",
    "from time import sleep\n",
    "from pprint import pprint\n",
    "from dotenv import load_dotenv\n",
    "\n",
    "# Load environment variables from .env file\n",
    "load_dotenv()\n",
    "\n",
    "# Add your Bing Search V7 subscription key and endpoint to your environment variables.\n",
    "subscription_key = os.environ[\"BING_SEARCH_V7_SUBSCRIPTION_KEY\"]\n"
   ]
  },
  {
   "cell_type": "code",
   "execution_count": 43,
   "id": "691a1685-fb17-4489-9e9f-505e66615be0",
   "metadata": {},
   "outputs": [],
   "source": [
    "def search_bing(query, api_key, count=100, offset=0):\n",
    "    endpoint = \"https://api.bing.microsoft.com/v7.0/news/search\"\n",
    "\n",
    "    # Construct a request\n",
    "    mkt = \"en-US\"\n",
    "    params = {\"q\": query, \"mkt\": mkt, \"count\": count, \"offset\": offset}\n",
    "    headers = {\"Ocp-Apim-Subscription-Key\": subscription_key}\n",
    "\n",
    "    # Call the API\n",
    "    try:\n",
    "        response = requests.get(endpoint, headers=headers, params=params)\n",
    "        response.raise_for_status()\n",
    "        return response.json()\n",
    "\n",
    "    except Exception as ex:\n",
    "        raise ex\n",
    "\n",
    "\n",
    "def scrape_news(query, api_key, total_results=1000, batch_size=100):\n",
    "    all_results = []\n",
    "\n",
    "    for offset in range(0, total_results, batch_size):\n",
    "        sleep(0.5)\n",
    "        result = search_bing(query, api_key, count=batch_size, offset=offset)\n",
    "        if result:\n",
    "            all_results.extend(result.get(\"value\", []))\n",
    "            print(f\"Added {len(results)} news. (Total {len(all_results)})\")\n",
    "\n",
    "    return all_results\n"
   ]
  },
  {
   "cell_type": "code",
   "execution_count": 44,
   "id": "73838ef9-44eb-4125-9b19-980490b45d2f",
   "metadata": {},
   "outputs": [
    {
     "name": "stdout",
     "output_type": "stream",
     "text": [
      "Added 48 news. (Total 48)\n",
      "Added 48 news. (Total 48)\n",
      "Added 48 news. (Total 90)\n",
      "Added 48 news. (Total 132)\n"
     ]
    }
   ],
   "source": [
    "results = scrape_news(\n",
    "    query = \"metal price\",\n",
    "    api_key = subscription_key,\n",
    "    total_results=200,\n",
    "    batch_size=50\n",
    ")"
   ]
  },
  {
   "cell_type": "code",
   "execution_count": 49,
   "id": "8ea20159-012b-4168-a863-e86dbb3eb063",
   "metadata": {},
   "outputs": [
    {
     "data": {
      "text/plain": [
       "132"
      ]
     },
     "execution_count": 49,
     "metadata": {},
     "output_type": "execute_result"
    }
   ],
   "source": [
    "#[print(i['name'], '\\n', i['description'], '\\n\\n') for i in results]\n",
    "len(results)"
   ]
  },
  {
   "cell_type": "code",
   "execution_count": 6,
   "id": "d3957d1c",
   "metadata": {},
   "outputs": [
    {
     "name": "stdout",
     "output_type": "stream",
     "text": [
      "{'_type': 'News', 'readLink': 'https://api.bing.microsoft.com/api/v7/news/search?q=disaster+Colombia', 'queryContext': {'originalQuery': 'disaster Colombia', 'adultIntent': False}, 'totalEstimatedMatches': 30700, 'sort': [{'name': 'Best match', 'id': 'relevance', 'isSelected': False, 'url': 'https://api.bing.microsoft.com/api/v7/news/search?q=disaster+Colombia'}, {'name': 'Most recent', 'id': 'date', 'isSelected': True, 'url': 'https://api.bing.microsoft.com/api/v7/news/search?q=disaster+Colombia&sortby=date'}], 'value': [{'name': 'Surviving the unthinkable: A guide to navigating a nuclear blast and ensuring your survival', 'url': 'https://www.msn.com/en-us/travel/news/surviving-the-unthinkable-a-guide-to-navigating-a-nuclear-blast-and-ensuring-your-survival/ss-AA1jIhb9', 'description': 'That means that in a worst-case scenario there is no time to plan in the moment. Irwin Redlener, a public health expert at Columbia University who specializes in disaster preparedness, told Insider that the best way to learn of an impending nuclear attack ...', 'provider': [{'_type': 'Organization', 'name': 'MSN'}], 'datePublished': '2023-11-10T16:18:00.0000000Z'}]}\n",
      "[{'name': 'Best match', 'id': 'relevance', 'isSelected': False, 'url': 'https://api.bing.microsoft.com/api/v7/news/search?q=disaster+Colombia'}, {'name': 'Most recent', 'id': 'date', 'isSelected': True, 'url': 'https://api.bing.microsoft.com/api/v7/news/search?q=disaster+Colombia&sortby=date'}]\n"
     ]
    }
   ],
   "source": [
    "import os\n",
    "import requests\n",
    "from dotenv import load_dotenv\n",
    "\n",
    "\n",
    "def get_news_articles(endpoint, headers, params):\n",
    "    response = requests.get(endpoint, headers=headers, params=params)\n",
    "    response.raise_for_status()\n",
    "    return response.json()\n",
    "\n",
    "\n",
    "load_dotenv()\n",
    "subscription_key = os.environ[\"BING_SEARCH_V7_SUBSCRIPTION_KEY\"]\n",
    "bing_endpoint = os.environ[\"BING_SEARCH_V7_ENDPOINT\"]\n",
    "event = os.environ[\"EVENT\"]\n",
    "location = os.environ[\"LOCATION\"]\n",
    "headers = {\"Ocp-Apim-Subscription-Key\": subscription_key}\n",
    "count = 1\n",
    "params = {\"mkt\": \"en-US\", \"q\": f\"{event} {location}\", \"count\": count, \"sortBy\": \"Date\"}\n",
    "\n",
    "news_articles = get_news_articles(bing_endpoint, headers, params)\n",
    "print(news_articles)\n",
    "\n",
    "print(news_articles[\"sort\"])\n",
    "\n",
    "\n"
   ]
  },
  {
   "cell_type": "code",
   "execution_count": 14,
   "id": "c48c457f",
   "metadata": {},
   "outputs": [],
   "source": [
    "from hashlib import sha256\n",
    "num = 0\n",
    "\n",
    "result_json = {\n",
    "    \"id\": num,\n",
    "    \"url\": news_articles[\"value\"][num]\n",
    "}"
   ]
  },
  {
   "cell_type": "code",
   "execution_count": 15,
   "id": "5c0ea1cf",
   "metadata": {},
   "outputs": [
    {
     "data": {
      "text/plain": [
       "<sha256 _hashlib.HASH object @ 0x107832e70>"
      ]
     },
     "execution_count": 15,
     "metadata": {},
     "output_type": "execute_result"
    }
   ],
   "source": [
    "hashlib.sha256()"
   ]
  },
  {
   "cell_type": "code",
   "execution_count": null,
   "id": "f3f645e7",
   "metadata": {},
   "outputs": [],
   "source": []
  }
 ],
 "metadata": {
  "kernelspec": {
   "display_name": "Python 3 (ipykernel)",
   "language": "python",
   "name": "python3"
  },
  "language_info": {
   "codemirror_mode": {
    "name": "ipython",
    "version": 3
   },
   "file_extension": ".py",
   "mimetype": "text/x-python",
   "name": "python",
   "nbconvert_exporter": "python",
   "pygments_lexer": "ipython3",
   "version": "3.9.13"
  }
 },
 "nbformat": 4,
 "nbformat_minor": 5
}
